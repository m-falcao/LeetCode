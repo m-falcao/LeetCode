{
  "nbformat": 4,
  "nbformat_minor": 0,
  "metadata": {
    "colab": {
      "provenance": [],
      "authorship_tag": "ABX9TyMvRLnro8KNsJXeSNyMVskp",
      "include_colab_link": true
    },
    "kernelspec": {
      "name": "python3",
      "display_name": "Python 3"
    },
    "language_info": {
      "name": "python"
    }
  },
  "cells": [
    {
      "cell_type": "markdown",
      "metadata": {
        "id": "view-in-github",
        "colab_type": "text"
      },
      "source": [
        "<a href=\"https://colab.research.google.com/github/m-falcao/LeetCode/blob/main/RemoveDuplicatesSortedArrayII.ipynb\" target=\"_parent\"><img src=\"https://colab.research.google.com/assets/colab-badge.svg\" alt=\"Open In Colab\"/></a>"
      ]
    },
    {
      "cell_type": "markdown",
      "source": [
        "Given an integer array nums sorted in non-decreasing order, remove some duplicates in-place such that each unique element appears at most twice. The relative order of the elements should be kept the same.\n",
        "\n",
        "Since it is impossible to change the length of the array in some languages, you must instead have the result be placed in the first part of the array nums. More formally, if there are k elements after removing the duplicates, then the first k elements of nums should hold the final result. It does not matter what you leave beyond the first k elements.\n",
        "\n",
        "Return k after placing the final result in the first k slots of nums.\n",
        "\n",
        "Do not allocate extra space for another array. You must do this by modifying the input array in-place with O(1) extra memory."
      ],
      "metadata": {
        "id": "moclFpsj9l75"
      }
    },
    {
      "cell_type": "markdown",
      "source": [
        "Custom Judge:\n",
        "\n",
        "The judge will test your solution with the following code:\n",
        "\n",
        "int[] nums = [...]; // Input array\n",
        "int[] expectedNums = [...]; // The expected answer with correct length\n",
        "\n",
        "int k = removeDuplicates(nums); // Calls your implementation\n",
        "\n",
        "assert k == expectedNums.length;\n",
        "for (int i = 0; i < k; i++) {\n",
        "    assert nums[i] == expectedNums[i];\n",
        "}\n",
        "If all assertions pass, then your solution will be accepted."
      ],
      "metadata": {
        "id": "DesYTgyy9qcu"
      }
    },
    {
      "cell_type": "code",
      "source": [
        "class Solution:\n",
        "    def removeDuplicates(self, nums: List[int]) -> int:\n",
        "        nums[:] = [nums[element_index] for element_index in range(len(nums)) if nums[element_index + 1:].count(nums[element_index]) < 2]\n",
        "        k = len(nums)\n",
        "        return k"
      ],
      "metadata": {
        "colab": {
          "base_uri": "https://localhost:8080/"
        },
        "id": "y-_CuMNmLxGx",
        "outputId": "c35487c1-5dac-4b55-a1e9-59709b87026e"
      },
      "execution_count": 17,
      "outputs": [
        {
          "output_type": "execute_result",
          "data": {
            "text/plain": [
              "(5, [1, 1, 2, 2, 3])"
            ]
          },
          "metadata": {},
          "execution_count": 17
        }
      ]
    }
  ]
}