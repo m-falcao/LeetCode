{
  "nbformat": 4,
  "nbformat_minor": 0,
  "metadata": {
    "colab": {
      "provenance": [],
      "authorship_tag": "ABX9TyMwkP7Q2u9k7AcZpazc1CON",
      "include_colab_link": true
    },
    "kernelspec": {
      "name": "python3",
      "display_name": "Python 3"
    },
    "language_info": {
      "name": "python"
    }
  },
  "cells": [
    {
      "cell_type": "markdown",
      "metadata": {
        "id": "view-in-github",
        "colab_type": "text"
      },
      "source": [
        "<a href=\"https://colab.research.google.com/github/m-falcao/LeetCode/blob/main/RemoveElement.ipynb\" target=\"_parent\"><img src=\"https://colab.research.google.com/assets/colab-badge.svg\" alt=\"Open In Colab\"/></a>"
      ]
    },
    {
      "cell_type": "markdown",
      "source": [
        "Given an integer array nums and an integer val, remove all occurrences of val in nums in-place. The order of the elements may be changed. Then return the number of elements in nums which are not equal to val.\n",
        "\n",
        "Consider the number of elements in nums which are not equal to val be k, to get accepted, you need to do the following things:\n",
        "\n",
        "Change the array nums such that the first k elements of nums contain the elements which are not equal to val. The remaining elements of nums are not important as well as the size of nums.\n",
        "Return k.\n",
        "\n",
        "Custom Judge:\n",
        "\n",
        "The judge will test your solution with the following code:\n",
        "\n",
        "---\n",
        "int[] nums = [...]; // Input array\n",
        "int val = ...; // Value to remove\n",
        "int[] expectedNums = [...]; // The expected answer with correct length.\n",
        "                            // It is sorted with no values equaling val.\n",
        "\n",
        "int k = removeElement(nums, val); // Calls your implementation\n",
        "\n",
        "assert k == expectedNums.length;\n",
        "sort(nums, 0, k); // Sort the first k elements of nums\n",
        "for (int i = 0; i < actualLength; i++) {\n",
        "    assert nums[i] == expectedNums[i];\n",
        "}\n",
        "\n",
        "\n",
        "---\n",
        "\n",
        "\n",
        "If all assertions pass, then your solution will be accepted."
      ],
      "metadata": {
        "id": "VcN-Za9ikcKD"
      }
    },
    {
      "cell_type": "markdown",
      "source": [
        "Constraints:\n",
        "\n",
        "0 <= nums.length <= 100\n",
        "\n",
        "0 <= nums[i] <= 50\n",
        "\n",
        "0 <= val <= 100\n"
      ],
      "metadata": {
        "id": "Itq44cpiS3Jc"
      }
    },
    {
      "cell_type": "code",
      "execution_count": null,
      "metadata": {
        "id": "UXzpYf4ykZmQ"
      },
      "outputs": [],
      "source": [
        "class Solution:\n",
        "    def removeElement(self, nums: List[int], val: int) -> int:\n",
        "      not_val = 0\n",
        "      while val in nums:\n",
        "        not_val += 1\n",
        "        nums.remove(val)\n",
        "        nums.append('_')\n",
        "      k = len(nums) - not_val\n",
        "      return k"
      ]
    }
  ]
}